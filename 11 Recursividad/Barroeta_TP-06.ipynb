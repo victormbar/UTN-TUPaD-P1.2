{
 "cells": [
  {
   "cell_type": "markdown",
   "id": "d6bfaf17",
   "metadata": {},
   "source": [
    "# **Trabajo práctico 6: Recursividad**\n",
    "\n",
    "Alumno: Victor Barroeta\n",
    "DNI: 95805903\n",
    " "
   ]
  },
  {
   "cell_type": "markdown",
   "id": "3efa1c42",
   "metadata": {},
   "source": [
    "## Actividades \n",
    "\n",
    "### **Ejercicio 1**\n",
    "\n",
    "Crea una función recursiva que calcule el factorial de un número. Luego, utiliza esa función para calcular y mostrar en pantalla el factorial de todos los números enteros entre 1 y el número que indique el usuario "
   ]
  },
  {
   "cell_type": "code",
   "execution_count": 9,
   "id": "9fe589ab",
   "metadata": {},
   "outputs": [
    {
     "ename": "ValueError",
     "evalue": "invalid literal for int() with base 10: ''",
     "output_type": "error",
     "traceback": [
      "\u001b[31m---------------------------------------------------------------------------\u001b[39m",
      "\u001b[31mValueError\u001b[39m                                Traceback (most recent call last)",
      "\u001b[36mCell\u001b[39m\u001b[36m \u001b[39m\u001b[32mIn[9]\u001b[39m\u001b[32m, line 7\u001b[39m\n\u001b[32m      4\u001b[39m     \u001b[38;5;28;01melse\u001b[39;00m:\n\u001b[32m      5\u001b[39m         \u001b[38;5;28;01mreturn\u001b[39;00m n * factorial(n - \u001b[32m1\u001b[39m)\n\u001b[32m----> \u001b[39m\u001b[32m7\u001b[39m limite = \u001b[38;5;28;43mint\u001b[39;49m\u001b[43m(\u001b[49m\u001b[38;5;28;43minput\u001b[39;49m\u001b[43m \u001b[49m\u001b[43m(\u001b[49m\u001b[33;43m\"\u001b[39;49m\u001b[33;43m¿Hasta qué número quieres calcular el factorial? \u001b[39;49m\u001b[33;43m\"\u001b[39;49m\u001b[43m)\u001b[49m\u001b[43m)\u001b[49m\n\u001b[32m      8\u001b[39m \u001b[38;5;28;01mfor\u001b[39;00m i \u001b[38;5;129;01min\u001b[39;00m \u001b[38;5;28mrange\u001b[39m (limite + \u001b[32m1\u001b[39m):\n\u001b[32m      9\u001b[39m     \u001b[38;5;28mprint\u001b[39m(\u001b[33mf\u001b[39m\u001b[33m\"\u001b[39m\u001b[33mEl factorial de \u001b[39m\u001b[38;5;132;01m{\u001b[39;00mi\u001b[38;5;132;01m}\u001b[39;00m\u001b[33m es \u001b[39m\u001b[38;5;132;01m{\u001b[39;00mfactorial(i)\u001b[38;5;132;01m}\u001b[39;00m\u001b[33m\"\u001b[39m)\n",
      "\u001b[31mValueError\u001b[39m: invalid literal for int() with base 10: ''"
     ]
    }
   ],
   "source": [
    "def factorial (n):\n",
    "    if n== 0 or n== 1:\n",
    "        return 1\n",
    "    else:\n",
    "        return n * factorial(n - 1)\n",
    "\n",
    "limite = int(input (\"¿Hasta qué número quieres calcular el factorial? \"))\n",
    "for i in range (limite + 1):\n",
    "    print(f\"El factorial de {i} es {factorial(i)}\")"
   ]
  },
  {
   "cell_type": "markdown",
   "id": "b3bce973",
   "metadata": {},
   "source": [
    "### **Ejercicio 2**\n",
    "\n",
    "Crea una función recursiva que calcule el valor de la serie de Fibonacci en la posición indicada. Posteriormente, muestra la serie completa hasta la posición que el usuario especifique. "
   ]
  },
  {
   "cell_type": "code",
   "execution_count": null,
   "id": "0ebab5d9",
   "metadata": {},
   "outputs": [
    {
     "name": "stdout",
     "output_type": "stream",
     "text": [
      "Serie de Fibonnacci:\n",
      "0 1 1 2 3 \n"
     ]
    }
   ],
   "source": [
    "def fibonnacci(n): \n",
    "    if n==0 or n== 1:\n",
    "        return n\n",
    "    return fibonnacci(n-1) + fibonnacci(n-2)\n",
    "\n",
    "serie = int(input(\"¿Hasta qué número quieres calcular la serie de Fibonnacci?\"))\n",
    "print(\"Serie de Fibonnacci:\")\n",
    "for i in range(serie):\n",
    "    print(fibonnacci(i), end=\" \")\n",
    "print()"
   ]
  },
  {
   "cell_type": "markdown",
   "id": "a8fac29c",
   "metadata": {},
   "source": [
    "### **Ejercicio 3**\n",
    "\n",
    "Crea una función recursiva que calcule la potencia de un número base elevado a un exponente, utilizando la fórmula 𝑛𝑚 = 𝑛 ∗ 𝑛(𝑚−1). Prueba esta función en un algoritmo general. "
   ]
  },
  {
   "cell_type": "code",
   "execution_count": null,
   "id": "51962a5d",
   "metadata": {},
   "outputs": [
    {
     "name": "stdout",
     "output_type": "stream",
     "text": [
      " La potencia de 2^9 es: 512\n"
     ]
    }
   ],
   "source": [
    "def potencia(base,exponente):\n",
    "    if exponente == 0:\n",
    "        return 1\n",
    "    return base * potencia(base, exponente -1)\n",
    "\n",
    "b = int(input(\"Ingrese la base: \"))\n",
    "e = int(input(\"Ingrese el exponente:\"))\n",
    "print(f\" La potencia de {b} elevado a {e} es: {potencia(b,e)}\")\n"
   ]
  },
  {
   "cell_type": "markdown",
   "id": "f79e8d21",
   "metadata": {},
   "source": [
    "### **Ejercicio 4**\n",
    "\n",
    "Crear una función recursiva en Python que reciba un número entero positivo en base decimal y devuelva su representación en binario como una cadena de texto. \n",
    "\n",
    "Cuando representamos un número en binario, lo expresamos usando solamente ceros (0) y \n",
    "unos (1), en base 2. Para convertir un número decimal a binario, se puede seguir este \n",
    "procedimiento: \n",
    "\n",
    "1. Dividir el número por 2. \n",
    "2. Guardar el resto (0 o 1). \n",
    "3. Repetir el proceso con el cociente hasta que llegue a 0. \n",
    "4. Los restos obtenidos, leídos de abajo hacia arriba, forman el número binario. \n",
    "\n",
    "\n",
    "Ejemplo: \n",
    "Convertir el número 10 a binario: \n",
    "10 ÷ 2 = 5     resto: 0   \n",
    "5 ÷ 2 = 2     resto: 1   \n",
    "2 ÷ 2 = 1     resto: 0   \n",
    "1 ÷ 2 = 0     resto: 1   \n",
    "\n",
    "Leyendo los restos de abajo hacia arriba: 1 0 1 0 → El resultado binario es \"1010\"."
   ]
  },
  {
   "cell_type": "code",
   "execution_count": null,
   "id": "58de7d25",
   "metadata": {},
   "outputs": [
    {
     "name": "stdout",
     "output_type": "stream",
     "text": [
      "25 en binario es 11001\n"
     ]
    }
   ],
   "source": [
    "def decimal_a_binario(n):\n",
    "    if n < 2:\n",
    "        return str(n)\n",
    "    return decimal_a_binario(n // 2) + str(n % 2)\n",
    "\n",
    "num = int(input(\"Número decimal a convertir a binario: \"))\n",
    "print(f\"{num} en binario es {decimal_a_binario(num)}\")"
   ]
  },
  {
   "cell_type": "markdown",
   "id": "cea0c050",
   "metadata": {},
   "source": [
    "### **Ejercicio 5**\n",
    "\n",
    "Implementá una función recursiva llamada es_palindromo(palabra) que reciba una cadena de texto sin espacios ni tildes, y devuelva True si es un palíndromo o False si no lo es. \n",
    "\n",
    "Requisitos: \n",
    "\n",
    "La solución debe ser recursiva. \n",
    "\n",
    "No se debe usar [::-1] ni la función reversed(). "
   ]
  },
  {
   "cell_type": "code",
   "execution_count": 19,
   "id": "69e6df74",
   "metadata": {},
   "outputs": [
    {
     "name": "stdout",
     "output_type": "stream",
     "text": [
      "¿'ala' es palíndromo?: True\n"
     ]
    }
   ],
   "source": [
    "def es_palindromo(palabra):\n",
    "    if len(palabra) <= 1:\n",
    "        return True\n",
    "    if palabra[0] != palabra[-1]:\n",
    "        return False\n",
    "    return es_palindromo(palabra[1:-1])\n",
    "\n",
    "palabra = input(\"Palabra para comprobar si es palíndromo: \")\n",
    "print(f\"¿'{palabra}' es palíndromo?: {es_palindromo(palabra)}\")"
   ]
  },
  {
   "cell_type": "markdown",
   "id": "834d6420",
   "metadata": {},
   "source": [
    "### **Ejercicio 6**\n",
    "\n",
    "Escribí una función recursiva en Python llamada suma_digitos(n) que reciba un número entero positivo y devuelva la suma detodos sus dígitos. \n",
    "\n",
    "Restricciones: \n",
    "No se puede convertir el número a string. \n",
    "Usá operaciones matemáticas (%, //) y recursión. \n",
    "\n",
    "Ejemplos: \n",
    "\n",
    "suma_digitos(1234)   → 10  (1 + 2 + 3 + 4) \n",
    "\n",
    "suma_digitos(9)      → 9 \n",
    "\n",
    "suma_digitos(305)    → 8   (3 + 0 + 5)"
   ]
  },
  {
   "cell_type": "code",
   "execution_count": 35,
   "id": "581adc13",
   "metadata": {},
   "outputs": [
    {
     "name": "stdout",
     "output_type": "stream",
     "text": [
      "La suma de los dígitos de 52 es 7\n"
     ]
    }
   ],
   "source": [
    "def suma_digitos(n):\n",
    "    if n < 10:\n",
    "        return n\n",
    "    return n % 10 + suma_digitos(n // 10)\n",
    "\n",
    "nd = int(input(\"Número para sumar sus dígitos: \"))\n",
    "print(f\"La suma de los dígitos de {nd} es {suma_digitos(nd)}\")"
   ]
  },
  {
   "cell_type": "markdown",
   "id": "4ba3fe60",
   "metadata": {},
   "source": [
    "### **Ejercicio 7**\n",
    "\n",
    "Un niño está construyendo una pirámide con bloques. En el nivel más bajo coloca n bloques, en el siguiente nivel uno menos (n - 1), y así sucesivamente hasta llegar al último nivel con un solo bloque. \n",
    "\n",
    "Escribí una función recursiva contar_bloques(n) que reciba el número de bloques en el nivel más bajo y devuelva el total de bloques que necesita para construir toda la pirámide.\n",
    "\n",
    "Ejemplos: \n",
    "\n",
    "contar_bloques(1)   → 1         (1) \n",
    "\n",
    "contar_bloques(2)   → 3         (2 + 1) \n",
    "\n",
    "contar_bloques(4)   → 10        (4 + 3 + 2 + 1)\n"
   ]
  },
  {
   "cell_type": "code",
   "execution_count": 33,
   "id": "1ccf8507",
   "metadata": {},
   "outputs": [
    {
     "name": "stdout",
     "output_type": "stream",
     "text": [
      "Bloques en cada nivel de la pirámide: 10\n",
      "Total de bloques necesarios: 55\n"
     ]
    }
   ],
   "source": [
    "def contar_bloques(n):\n",
    "    if n == 1:\n",
    "        return 1\n",
    "    return n + contar_bloques(n - 1)\n",
    "\n",
    "niveles = int(input(\"¿Cuántos bloques hay en el nivel más bajo de la pirámide? \"))\n",
    "print(f\"Bloques en cada nivel de la pirámide: {niveles}\")\n",
    "print(f\"Total de bloques necesarios: {contar_bloques(niveles)}\")"
   ]
  },
  {
   "cell_type": "markdown",
   "id": "fa5498c7",
   "metadata": {},
   "source": [
    "### **Ejercicio 8**\n",
    "\n",
    "Escribí una función recursiva llamada contar_digito(numero, digito) que reciba un número entero positivo (numero) y un dígito (entre 0 y 9), y devuelva cuántas veces aparece ese dígito dentro del número. \n",
    "\n",
    "Ejemplos: \n",
    "\n",
    "contar_digito(12233421, 2)   → 3   \n",
    "contar_digito(5555, 5)       → 4   \n",
    "contar_digito(123456, 7)     → 0   "
   ]
  },
  {
   "cell_type": "code",
   "execution_count": 27,
   "id": "a1361667",
   "metadata": {},
   "outputs": [
    {
     "name": "stdout",
     "output_type": "stream",
     "text": [
      "El dígito 5 aparece 1 veces en 458367\n"
     ]
    }
   ],
   "source": [
    "def contar_digito(numero, digito):\n",
    "    if numero == 0:\n",
    "        return 0\n",
    "    contador = 1 if numero % 10 == digito else 0\n",
    "    return contador + contar_digito(numero // 10, digito)\n",
    "\n",
    "num_c = int(input(\"Número para buscar el dígito: \"))\n",
    "dig = int(input(\"Dígito a buscar (0-9): \"))\n",
    "print(f\"El dígito {dig} aparece {contar_digito(num_c, dig)} veces en {num_c}\")"
   ]
  }
 ],
 "metadata": {
  "kernelspec": {
   "display_name": "Python 3",
   "language": "python",
   "name": "python3"
  },
  "language_info": {
   "codemirror_mode": {
    "name": "ipython",
    "version": 3
   },
   "file_extension": ".py",
   "mimetype": "text/x-python",
   "name": "python",
   "nbconvert_exporter": "python",
   "pygments_lexer": "ipython3",
   "version": "3.13.2"
  }
 },
 "nbformat": 4,
 "nbformat_minor": 5
}
