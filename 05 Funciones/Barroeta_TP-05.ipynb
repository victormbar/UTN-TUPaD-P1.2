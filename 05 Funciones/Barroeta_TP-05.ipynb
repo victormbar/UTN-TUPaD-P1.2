{
 "cells": [
  {
   "cell_type": "markdown",
   "id": "d6bfaf17",
   "metadata": {},
   "source": [
    "# **Trabajo práctico 5: Funciones**\n",
    "\n",
    "Alumno: Victor Barroeta\n",
    "DNI: 95805903\n",
    " "
   ]
  },
  {
   "cell_type": "markdown",
   "id": "3efa1c42",
   "metadata": {},
   "source": [
    "## Actividades \n",
    "\n",
    "### **Ejercicio 1**\n",
    "\n",
    "Crear una función llamada imprimir_hola_mundo que imprima porpantalla el mensaje: “Hola Mundo!”. Llamar a esta función desde el programa principal."
   ]
  },
  {
   "cell_type": "code",
   "execution_count": 3,
   "id": "9fe589ab",
   "metadata": {},
   "outputs": [
    {
     "name": "stdout",
     "output_type": "stream",
     "text": [
      "Hola Mundo!\n"
     ]
    }
   ],
   "source": [
    "def imprimir_mensaje():\n",
    "    print(\"Hola Mundo!\")\n",
    "\n",
    "#Llamada a la función\n",
    "imprimir_mensaje()\n"
   ]
  },
  {
   "cell_type": "markdown",
   "id": "b3bce973",
   "metadata": {},
   "source": [
    "### **Ejercicio 2**\n",
    "Crear una función llamada saludar_usuario(nombre) que recibacomo parámetro un nombre y devuelva un saludo personalizado. Por ejemplo, si se llama con saludar_usuario(\"Marcos\"), deberá de volver: “Hola Marcos!”. Llamar a esta función desde el programa principal solicitando el nombre al usuario."
   ]
  },
  {
   "cell_type": "code",
   "execution_count": null,
   "id": "70549406",
   "metadata": {},
   "outputs": [
    {
     "name": "stdout",
     "output_type": "stream",
     "text": [
      "Hola Victor!\n"
     ]
    }
   ],
   "source": [
    "def saludar_usuario(nombre):\n",
    "    return(f\"Hola {nombre}!\")\n",
    "\n",
    "#Programa principal\n",
    "nombre_usuario = input(\"Cuál es tu nombre?\")\n",
    "saludo = saludar_usuario(nombre_usuario)\n",
    "print(saludo)"
   ]
  },
  {
   "cell_type": "markdown",
   "id": "a8fac29c",
   "metadata": {},
   "source": [
    "### **Ejercicio 3**\n",
    "\n",
    "Crear una función llamada informacion_personal(nombre, apellido,edad, residencia) que reciba cuatro parámetros e imprima: “Soy\n",
    "[nombre] [apellido], tengo [edad] años y vivo en [residencia]”. Pedir los datos al usuario y llamar a esta función con los valores ingresados."
   ]
  },
  {
   "cell_type": "code",
   "execution_count": 5,
   "id": "29ed9623",
   "metadata": {},
   "outputs": [
    {
     "data": {
      "text/plain": [
       "'Soy Victor Barroeta, tengo 29 años y vivo en Cordoba.'"
      ]
     },
     "execution_count": 5,
     "metadata": {},
     "output_type": "execute_result"
    }
   ],
   "source": [
    "def informacion_personal(nombre,apellido,edad,resudencia):\n",
    "    return(f\"Soy {nombre} {apellido}, tengo {edad} años y vivo en {resudencia}.\")\n",
    "\n",
    "#Programa principal\n",
    "nombre = input(\"Cuál es tu nombre?\")\n",
    "apellido = input(\"Cuál es tu apellido?\")\n",
    "edad = input(\"Cuál es tu edad?\")\n",
    "residencia = input(\"Dónde vives?\")\n",
    "\n",
    "informacion_personal(nombre, apellido, edad, residencia)"
   ]
  },
  {
   "cell_type": "markdown",
   "id": "f79e8d21",
   "metadata": {},
   "source": [
    "### **Ejercicio 4**\n",
    "\n",
    "Crear dos funciones: calcular_area_circulo(radio) que reciba el radio como parámetro y devuelva el área del círculo. calcular_perimetro_circulo(radio) que reciba el radio como parámetro y devuelva el perímetro del círculo. Solicitar el radio al usuario y llamar ambas funciones para mostrar los resultados."
   ]
  },
  {
   "cell_type": "code",
   "execution_count": null,
   "id": "7711f85f",
   "metadata": {},
   "outputs": [
    {
     "name": "stdout",
     "output_type": "stream",
     "text": [
      "El radio del círculo es: 5.0\n",
      "Calculando área y perímetro del círculo...\n",
      "Area: 78.54\n",
      "Perímetro: 31.42\n"
     ]
    }
   ],
   "source": [
    "import math\n",
    "\n",
    "def calcular_area_circulo(radio):\n",
    "    area = math.pi * (radio ** 2)\n",
    "    return area\n",
    "\n",
    "def calcular_perimetro_circulo(radio):\n",
    "    perimetro = 2 * math.pi * radio\n",
    "    return perimetro\n",
    "\n",
    "#Programa principal\n",
    "\n",
    "radio = float(input(\"Ingrese el radio del círculo: \"))\n",
    "print(f\"El radio del círculo es: {radio}\")\n",
    "\n",
    "print(\"Calculando área y perímetro del círculo...\")\n",
    "area = calcular_area_circulo(radio)\n",
    "perimetro = calcular_perimetro_circulo(radio)\n",
    "\n",
    "print(f\"Area: {area:.2f}\")\n",
    "print(f\"Perímetro: {perimetro:.2f}\")\n",
    "\n"
   ]
  },
  {
   "cell_type": "markdown",
   "id": "cea0c050",
   "metadata": {},
   "source": [
    "### **Ejercicio 5**\n",
    "\n",
    "Crear una función llamada segundos_a_horas(segundos) que recibauna cantidad de segundos como parámetro y devuelva la cantidad de horas correspondientes. Solicitar al usuario los segundos y mostrar el resultado usando esta función."
   ]
  },
  {
   "cell_type": "code",
   "execution_count": 11,
   "id": "f768a405",
   "metadata": {},
   "outputs": [
    {
     "name": "stdout",
     "output_type": "stream",
     "text": [
      "70000 segundos son 19 horas.\n"
     ]
    }
   ],
   "source": [
    "def segundos_a_horas(segundos):\n",
    "    return segundos // 3600\n",
    "\n",
    "segundos = int(input(\"Ingrese la cantidad de segundos: \"))\n",
    "horas = segundos_a_horas(segundos)\n",
    "print(f\"{segundos} segundos son {horas} horas.\")\n",
    "\n"
   ]
  },
  {
   "cell_type": "markdown",
   "id": "834d6420",
   "metadata": {},
   "source": [
    "### **Ejercicio 6**\n",
    "\n",
    "Crear una función llamada tabla_multiplicar(numero) que reciba un número como parámetro y imprima la tabla de multiplicar de ese número del 1 al 10. Pedir al usuario el número y llamar a la función. "
   ]
  },
  {
   "cell_type": "code",
   "execution_count": 12,
   "id": "7b5090e8",
   "metadata": {},
   "outputs": [
    {
     "name": "stdout",
     "output_type": "stream",
     "text": [
      "2 x 1 = 2\n",
      "2 x 2 = 4\n",
      "2 x 3 = 6\n",
      "2 x 4 = 8\n",
      "2 x 5 = 10\n",
      "2 x 6 = 12\n",
      "2 x 7 = 14\n",
      "2 x 8 = 16\n",
      "2 x 9 = 18\n",
      "2 x 10 = 20\n"
     ]
    }
   ],
   "source": [
    "def tabla_multiplicar(numero):\n",
    "    for i in range(1, 11):\n",
    "        print(f\"{numero} x {i} = {numero * i}\")\n",
    "\n",
    "num = int(input(\"¿De qué número quieres la tabla? \"))\n",
    "tabla_multiplicar(num)"
   ]
  },
  {
   "cell_type": "markdown",
   "id": "4ba3fe60",
   "metadata": {},
   "source": [
    "### **Ejercicio 7**\n",
    "\n",
    "Crear una función llamada operaciones_basicas(a, b) que recibados números como parámetros y devuelva una tupla con el resultado de sumarlos, restarlos, multiplicarlos y dividirlos. Mostrar los resultados de forma clara"
   ]
  },
  {
   "cell_type": "code",
   "execution_count": 14,
   "id": "59240634",
   "metadata": {},
   "outputs": [
    {
     "name": "stdout",
     "output_type": "stream",
     "text": [
      "Los números ingresados son: 5.0 y 10.0\n",
      "Suma: 15.0\n",
      "Resta: -5.0\n",
      "Multiplicación: 50.0\n",
      "División: 0.5\n"
     ]
    }
   ],
   "source": [
    "def operaciones_basicas(a, b):\n",
    "    suma = a + b\n",
    "    resta = a - b\n",
    "    multiplicacion = a * b\n",
    "    division = a / b if b != 0 else \"Indefinido\"\n",
    "    return suma, resta, multiplicacion, division\n",
    "\n",
    "a = float(input(\"Primer número: \"))\n",
    "b = float(input(\"Segundo número: \"))\n",
    "print(f\"Los números ingresados son: {a} y {b}\")\n",
    "\n",
    "res = operaciones_basicas(a, b)\n",
    "print(f\"Suma: {res[0]}\\nResta: {res[1]}\\nMultiplicación: {res[2]}\\nDivisión: {res[3]}\")"
   ]
  },
  {
   "cell_type": "markdown",
   "id": "fa5498c7",
   "metadata": {},
   "source": [
    "### **Ejercicio 8**\n",
    "\n",
    "Crear una función llamada calcular_imc(peso, altura) que reciba el peso en kilogramos y la altura en metros, y devuelva el índice de masa corporal (IMC). Solicitar al usuario los datos y llamar a la función para mostrar el resultado con dos decimales."
   ]
  },
  {
   "cell_type": "code",
   "execution_count": 15,
   "id": "18a6d8ae",
   "metadata": {},
   "outputs": [
    {
     "name": "stdout",
     "output_type": "stream",
     "text": [
      "tu peso es: 80.0 kg y tu altura es: 1.76 metros\n",
      "Tu IMC es: 25.83\n"
     ]
    }
   ],
   "source": [
    "def calcular_imc(peso, altura):\n",
    "    return peso / (altura ** 2)\n",
    "\n",
    "peso = float(input(\"Peso en kg: \"))\n",
    "altura = float(input(\"Altura en metros: \"))\n",
    "print(f\"tu peso es: {peso} kg y tu altura es: {altura} metros\")\n",
    "\n",
    "imc = calcular_imc(peso, altura)\n",
    "print(f\"Tu IMC es: {imc:.2f}\")"
   ]
  },
  {
   "cell_type": "markdown",
   "id": "659d2ddd",
   "metadata": {},
   "source": [
    "### **Ejercicio 9**\n",
    "\n",
    "Crear una función llamada celsius_a_fahrenheit(celsius) que recibauna temperatura en grados Celsius y devuelva su equivalente en Fahrenheit. Pedir al usuario la temperatura en Celsius y mostrar el resultado usando la función. "
   ]
  },
  {
   "cell_type": "code",
   "execution_count": 18,
   "id": "8d5412b6",
   "metadata": {},
   "outputs": [
    {
     "name": "stdout",
     "output_type": "stream",
     "text": [
      "15.0 °C son 59.00 F°.\n"
     ]
    }
   ],
   "source": [
    "def celsius_a_fahrenheit(celsius):\n",
    "    return celsius * 9/5 + 32\n",
    "\n",
    "c = float(input(\"Ingrese la temperatura en grados Celsius:\"))\n",
    "f = celsius_a_fahrenheit(c)\n",
    "print(f\"{c} °C son {f:.2f} F°.\")\n"
   ]
  },
  {
   "cell_type": "markdown",
   "id": "2613bb75",
   "metadata": {},
   "source": [
    "### **Ejercicio 10**\n",
    "\n",
    "Crear una función llamada calcular_promedio(a, b, c) que reciba tres números como parámetros y devuelva el promedio de ellos. Solicitar los números al usuario y mostrar el resultado usando esta función."
   ]
  },
  {
   "cell_type": "code",
   "execution_count": 20,
   "id": "c42ca0f4",
   "metadata": {},
   "outputs": [
    {
     "name": "stdout",
     "output_type": "stream",
     "text": [
      "Los números ingresados son: 10.0, 9.0 y 4.0\n",
      "El promedio es: 7.67\n"
     ]
    }
   ],
   "source": [
    "def calcular_promedio(a, b, c):\n",
    "    return (a + b + c) / 3\n",
    "\n",
    "n1 = float(input(\"Primer número: \"))\n",
    "n2 = float(input(\"Segundo número: \"))\n",
    "n3 = float(input(\"Tercer número: \"))\n",
    "print(f\"Los números ingresados son: {n1}, {n2} y {n3}\")\n",
    "\n",
    "prom = calcular_promedio(n1, n2, n3)\n",
    "print(f\"El promedio es: {prom:.2f}\")"
   ]
  },
  {
   "cell_type": "markdown",
   "id": "fa495179",
   "metadata": {},
   "source": [
    "## Consejo:\n",
    "\n",
    "Antes de empezar, analiza cada problema y piensa cómo dividirlo en pasos más pequeños utilizando funciones. Al terminar, prueba cada función con diferentes entradas para verificar que funciona correctamente."
   ]
  }
 ],
 "metadata": {
  "kernelspec": {
   "display_name": "Python 3",
   "language": "python",
   "name": "python3"
  },
  "language_info": {
   "codemirror_mode": {
    "name": "ipython",
    "version": 3
   },
   "file_extension": ".py",
   "mimetype": "text/x-python",
   "name": "python",
   "nbconvert_exporter": "python",
   "pygments_lexer": "ipython3",
   "version": "3.13.2"
  }
 },
 "nbformat": 4,
 "nbformat_minor": 5
}
