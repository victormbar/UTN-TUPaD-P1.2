{
 "cells": [
  {
   "cell_type": "markdown",
   "id": "d6bfaf17",
   "metadata": {},
   "source": [
    "# **Trabajo práctico 5: Funciones**\n",
    "\n",
    "Alumno: Victor Barroeta\n",
    "DNI: 95805903\n",
    " "
   ]
  },
  {
   "cell_type": "markdown",
   "id": "3efa1c42",
   "metadata": {},
   "source": [
    "## Actividades \n",
    "\n",
    "### **Ejercicio 1**\n",
    "\n",
    "Crea un programa que imprima en pantalla todos los números enteros desde 0 hasta 100 (incluyendo ambos extremos), en orden creciente, mostrando un número por línea. "
   ]
  },
  {
   "cell_type": "code",
   "execution_count": null,
   "id": "9fe589ab",
   "metadata": {},
   "outputs": [],
   "source": []
  },
  {
   "cell_type": "markdown",
   "id": "b3bce973",
   "metadata": {},
   "source": [
    "### **Ejercicio 2**\n",
    "\n",
    "Desarrolla un programa que solicite al usuario un número entero y determine la cantidad de dígitos que contiene."
   ]
  },
  {
   "cell_type": "markdown",
   "id": "a8fac29c",
   "metadata": {},
   "source": [
    "### **Ejercicio 3**\n",
    "\n",
    "Escribe un programa que sume todos los números enteros comprendidos entre dos valores dados por el usuario, excluyendo esos dos valores. "
   ]
  },
  {
   "cell_type": "markdown",
   "id": "f79e8d21",
   "metadata": {},
   "source": [
    "### **Ejercicio 4**\n",
    "\n",
    "Elabora un programa que permita al usuario ingresar números enteros y los sume en secuencia. El programa debe detenerse y mostrar el total acumulado cuando el usuario ingrese un 0. "
   ]
  },
  {
   "cell_type": "markdown",
   "id": "cea0c050",
   "metadata": {},
   "source": [
    "### **Ejercicio 5**\n",
    "\n",
    "Crea un juego en el que el usuario deba adivinar un número aleatorio entre 0 y 9. Al final, el programa debe mostrar cuántos intentos fueron necesarios para acertar el número. "
   ]
  },
  {
   "cell_type": "markdown",
   "id": "834d6420",
   "metadata": {},
   "source": [
    "### **Ejercicio 6**\n",
    "\n",
    "Desarrolla un programa que imprima en pantalla todos los números pares comprendidos entre 0 y 100, en orden decreciente. "
   ]
  },
  {
   "cell_type": "markdown",
   "id": "4ba3fe60",
   "metadata": {},
   "source": [
    "### **Ejercicio 7**\n",
    "\n",
    "Crea un programa que calcule la suma de todos los números comprendidos entre 0 y un número entero positivo indicado por el usuario. "
   ]
  },
  {
   "cell_type": "markdown",
   "id": "fa5498c7",
   "metadata": {},
   "source": [
    "### **Ejercicio 8**\n",
    "\n",
    "Escribe un programa que permita al usuario ingresar 100 números enteros. Luego, el programa debe indicar cuántos de estos números son pares, cuántos son impares, cuántos son negativos y cuántos son positivos. (Nota: para probar el programa puedes usar una cantidad menor, pero debe estar preparado para procesar 100 números con un solo cambio). "
   ]
  },
  {
   "cell_type": "markdown",
   "id": "659d2ddd",
   "metadata": {},
   "source": [
    "### **Ejercicio 9**\n",
    "\n",
    "Elabora un programa que permita al usuario ingresar 100 números enteros y luego calcule la media de esos valores. (Nota: puedes probar el programa con una cantidad menor, pero debe poder procesar 100 números cambiando solo un valor). "
   ]
  },
  {
   "cell_type": "markdown",
   "id": "2613bb75",
   "metadata": {},
   "source": [
    "### **Ejercicio 10**\n",
    "\n",
    "Escribe un programa que invierta el orden de los dígitos de un número ingresado por el usuario. Ejemplo: si el usuario ingresa 547, el programa debe mostrar 745. "
   ]
  }
 ],
 "metadata": {
  "language_info": {
   "name": "python"
  }
 },
 "nbformat": 4,
 "nbformat_minor": 5
}
