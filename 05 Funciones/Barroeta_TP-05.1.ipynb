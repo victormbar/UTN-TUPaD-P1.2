{
 "cells": [
  {
   "cell_type": "markdown",
   "id": "d6bfaf17",
   "metadata": {},
   "source": [
    "# **Trabajo práctico 5.1: Listas**\n",
    "\n",
    "Alumno: Victor Barroeta\n",
    "DNI: 95805903\n",
    " "
   ]
  },
  {
   "cell_type": "markdown",
   "id": "3efa1c42",
   "metadata": {},
   "source": [
    "## Actividades \n",
    "\n",
    "### **Ejercicio 1**\n",
    "\n",
    "Crear una lista con los números del 1 al 100 que sean múltiplos de 4. Utilizar la función range. "
   ]
  },
  {
   "cell_type": "code",
   "execution_count": null,
   "id": "9fe589ab",
   "metadata": {},
   "outputs": [
    {
     "name": "stdout",
     "output_type": "stream",
     "text": [
      "[4, 8, 12, 16, 20, 24, 28, 32, 36, 40, 44, 48, 52, 56, 60, 64, 68, 72, 76, 80, 84, 88, 92, 96, 100], "
     ]
    }
   ],
   "source": [
    "#Programa que crea una lista de números del 1 al 100 que sean múltiplos de 4 \n",
    "\n",
    "multiplo_4 = list(range(4,101,4))\n",
    "\n",
    "print (multiplo_4, end=\", \")\n"
   ]
  },
  {
   "cell_type": "markdown",
   "id": "b3bce973",
   "metadata": {},
   "source": [
    "### **Ejercicio 2**\n",
    "\n",
    "Crear una lista con cinco elementos (colocar los elementos que más te gusten) y mostrar el penúltimo. ¡Puedes hacerlo como se muestra en los videos o bien investigar cómo funciona el indexing con números negativos!"
   ]
  },
  {
   "cell_type": "code",
   "execution_count": null,
   "id": "cac174a2",
   "metadata": {},
   "outputs": [
    {
     "name": "stdout",
     "output_type": "stream",
     "text": [
      "Juegos\n"
     ]
    }
   ],
   "source": [
    "mis_elementos = [\"Libros\", \"Películas\", \"Música\", \"Juegos\", \"Tecnología\"]\n",
    "\n",
    "print(mis_elementos[-2]) # o print(mis_elementos[3]) # Imprime el cuarto elemento de la lista"
   ]
  },
  {
   "cell_type": "markdown",
   "id": "a8fac29c",
   "metadata": {},
   "source": [
    "### **Ejercicio 3**\n",
    "\n",
    "Crear una lista vacía, agregar tres palabras con append e imprimir la lista resultante por pantalla. Pista: para crear una lista vacía debes colocar los corchetes sin nada en su interior. Por ejemplo: \n",
    "\n",
    "lista_vacia = [] "
   ]
  },
  {
   "cell_type": "code",
   "execution_count": 5,
   "id": "402d5bb7",
   "metadata": {},
   "outputs": [
    {
     "name": "stdout",
     "output_type": "stream",
     "text": [
      "['Casa', 'Perro', 'Gato']\n"
     ]
    }
   ],
   "source": [
    "lista_vacia = []\n",
    "\n",
    "lista_vacia.append(\"Casa\")\n",
    "lista_vacia.append(\"Perro\")\n",
    "lista_vacia.append(\"Gato\")\n",
    "\n",
    "print(lista_vacia)\n"
   ]
  },
  {
   "cell_type": "markdown",
   "id": "f79e8d21",
   "metadata": {},
   "source": [
    "### **Ejercicio 4**\n",
    "\n",
    "Reemplazar el segundo y último valor de la lista “animales” con las palabras “loro” y “oso”, respectivamente.  Imprimir la lista resultante por pantalla. ¡Puedes hacerlo como se muestra en los videos o bien investigar cómo funciona el indexing con números negativos! \n",
    "\n",
    "animales = [\"perro\", \"gato\", \"conejo\", \"pez\"] "
   ]
  },
  {
   "cell_type": "code",
   "execution_count": 7,
   "id": "95fec2c2",
   "metadata": {},
   "outputs": [
    {
     "name": "stdout",
     "output_type": "stream",
     "text": [
      "['perro', 'loro', 'conejo', 'oso']\n"
     ]
    }
   ],
   "source": [
    "animales = [\"perro\", \"gato\", \"conejo\", \"pez\"] \n",
    "\n",
    "animales [1] = \"loro\"\n",
    "animales [3] = \"oso\"\n",
    "\n",
    "print(animales)"
   ]
  },
  {
   "cell_type": "markdown",
   "id": "cea0c050",
   "metadata": {},
   "source": [
    "### **Ejercicio 5**\n",
    "\n",
    "Analizar el siguiente programa y explicar con tus palabras qué es lo que realiza.\n",
    "\n",
    "numeros = [8, 15, 3, 22, 7]\n",
    "\n",
    "numeros.remove(max(numeros))\n",
    "\n",
    "print(numeros)\n"
   ]
  },
  {
   "cell_type": "markdown",
   "id": "230113b0",
   "metadata": {},
   "source": [
    "El programa anterior sigue los siguientes pasos:\n",
    "\n",
    "1.  Crea una lista llamada nmeros (línea `numeros = [8, 15, 3, 22, 7]`)\n",
    "\n",
    "2. Se calcula el maximo numero de las listas, Se elimina el numero de la lista mas alto.\n",
    "\n",
    "3. Se imprime los numeros resultantes."
   ]
  },
  {
   "cell_type": "markdown",
   "id": "834d6420",
   "metadata": {},
   "source": [
    "### **Ejercicio 6**\n",
    "\n",
    "Crear una lista con números del 10 al 30 (incluído), haciendo saltos de 5 en 5 y mostrar por pantalla los dos primeros. "
   ]
  },
  {
   "cell_type": "code",
   "execution_count": 1,
   "id": "cdc5622b",
   "metadata": {},
   "outputs": [
    {
     "name": "stdout",
     "output_type": "stream",
     "text": [
      "[10, 15]\n"
     ]
    }
   ],
   "source": [
    "numeros = list(range(10, 31, 5))\n",
    "print(numeros[:2])  # Muestra los dos primeros"
   ]
  },
  {
   "cell_type": "markdown",
   "id": "4ba3fe60",
   "metadata": {},
   "source": [
    "### **Ejercicio 7**\n",
    "\n",
    "Reemplazar los dos valores centrales (índices 1 y 2) de la lista “autos” por dos nuevos valores cualesquiera.\n",
    "\n",
    "autos = [\"sedan\", \"polo\", \"suran\", \"gol\"]"
   ]
  },
  {
   "cell_type": "code",
   "execution_count": 2,
   "id": "e6633a3e",
   "metadata": {},
   "outputs": [
    {
     "name": "stdout",
     "output_type": "stream",
     "text": [
      "['sedan', 'siena', 'up', 'gol']\n"
     ]
    }
   ],
   "source": [
    "autos = [\"sedan\", \"polo\", \"suran\", \"gol\"]\n",
    "autos[1:3] = [\"siena\", \"up\"]\n",
    "print(autos)"
   ]
  },
  {
   "cell_type": "markdown",
   "id": "fa5498c7",
   "metadata": {},
   "source": [
    "### **Ejercicio 8**\n",
    "\n",
    "Crear una lista vacía llamada \"dobles\" y agregar el doble de 5, 10 y 15 usando append directamente. Imprimir la lista resultante por pantalla. "
   ]
  },
  {
   "cell_type": "code",
   "execution_count": 3,
   "id": "dd76804d",
   "metadata": {},
   "outputs": [
    {
     "name": "stdout",
     "output_type": "stream",
     "text": [
      "[10, 20, 30]\n"
     ]
    }
   ],
   "source": [
    "dobles = []\n",
    "dobles.append(2 * 5)\n",
    "dobles.append(2 * 10)\n",
    "dobles.append(2 * 15)\n",
    "print(dobles)"
   ]
  },
  {
   "cell_type": "markdown",
   "id": "659d2ddd",
   "metadata": {},
   "source": [
    "### **Ejercicio 9**\n",
    "\n",
    "Dada la lista “compras”, cuyos elementos representan los productos comprados por diferentes clientes: \n",
    "\n",
    "compras = [[\"pan\", \"leche\"], [\"arroz\", \"fideos\", \"salsa\"], \n",
    "[\"agua\"]] \n",
    "\n",
    "a) Agregar \"jugo\" a la lista del tercer cliente usando append. \n",
    "\n",
    "b) Reemplazar \"fideos\" por \"tallarines\" en la lista del segundo cliente. \n",
    "\n",
    "c) Eliminar \"pan\" de la lista del primer cliente. \n",
    " \n",
    "d) Imprimir la lista resultante por pantalla "
   ]
  },
  {
   "cell_type": "code",
   "execution_count": 5,
   "id": "68b630f6",
   "metadata": {},
   "outputs": [
    {
     "name": "stdout",
     "output_type": "stream",
     "text": [
      "[['leche'], ['arroz', 'tallarines', 'salsa'], ['agua', 'jugo']]\n"
     ]
    }
   ],
   "source": [
    "compras = [[\"pan\", \"leche\"], [\"arroz\", \"fideos\", \"salsa\"], [\"agua\"]]\n",
    "# a) Agregar \"jugo\" al tercer cliente\n",
    "compras[2].append(\"jugo\")\n",
    "# b) Reemplazar \"fideos\" por \"tallarines\"\n",
    "compras[1][1] = \"tallarines\"\n",
    "# c) Eliminar \"pan\" del primer cliente\n",
    "compras[0].remove(\"pan\")\n",
    "print(compras)"
   ]
  },
  {
   "cell_type": "markdown",
   "id": "2613bb75",
   "metadata": {},
   "source": [
    "### **Ejercicio 10**\n",
    "\n",
    "Elaborar una lista anidada llamada “lista_anidada” que contenga los siguientes elementos: \n",
    "\n",
    "● Posición lista_anidada[0]: 15 \n",
    "\n",
    "● Posición lista_anidada[1]: True \n",
    "\n",
    "● Posición lista_anidada[2][0]: 25.5 \n",
    "\n",
    "● Posición lista_anidada[2][1]: 57.9 \n",
    "\n",
    "● Posición lista_anidada[2][2]: 30.6\n",
    "\n",
    "● Posición lista_anidada[3]: False\n",
    " \n",
    "Imprimir la lista resultante por pantalla. "
   ]
  },
  {
   "cell_type": "code",
   "execution_count": 4,
   "id": "d824fcaf",
   "metadata": {},
   "outputs": [
    {
     "name": "stdout",
     "output_type": "stream",
     "text": [
      "[15, True, [25.5, 57.9, 30.6], False]\n"
     ]
    }
   ],
   "source": [
    "lista_anidada = [15, True, [25.5, 57.9, 30.6], False]\n",
    "print(lista_anidada)"
   ]
  }
 ],
 "metadata": {
  "kernelspec": {
   "display_name": "Python 3",
   "language": "python",
   "name": "python3"
  },
  "language_info": {
   "codemirror_mode": {
    "name": "ipython",
    "version": 3
   },
   "file_extension": ".py",
   "mimetype": "text/x-python",
   "name": "python",
   "nbconvert_exporter": "python",
   "pygments_lexer": "ipython3",
   "version": "3.13.2"
  }
 },
 "nbformat": 4,
 "nbformat_minor": 5
}
