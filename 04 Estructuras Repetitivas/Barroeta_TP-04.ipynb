{
 "cells": [
  {
   "cell_type": "markdown",
   "id": "d6bfaf17",
   "metadata": {},
   "source": [
    "# **Trabajo práctico 4: Estructuras Repetitivas**\n",
    "\n",
    "Alumno: Victor Barroeta\n",
    "DNI: 95805903\n",
    " "
   ]
  },
  {
   "cell_type": "markdown",
   "id": "3efa1c42",
   "metadata": {},
   "source": [
    "## Actividades \n",
    "\n",
    "### **Ejercicio 1**\n",
    "\n",
    "Crea un programa que imprima en pantalla todos los números enteros desde 0 hasta 100 (incluyendo ambos extremos), en orden creciente, mostrando un número por línea. "
   ]
  },
  {
   "cell_type": "code",
   "execution_count": 16,
   "id": "9fe589ab",
   "metadata": {},
   "outputs": [
    {
     "name": "stdout",
     "output_type": "stream",
     "text": [
      "1, 2, 3, 4, 5, 6, 7, 8, 9, 10, 11, 12, 13, 14, 15, 16, 17, 18, 19, 20, 21, 22, 23, 24, 25, 26, 27, 28, 29, 30, 31, 32, 33, 34, 35, 36, 37, 38, 39, 40, 41, 42, 43, 44, 45, 46, 47, 48, 49, 50, 51, 52, 53, 54, 55, 56, 57, 58, 59, 60, 61, 62, 63, 64, 65, 66, 67, 68, 69, 70, 71, 72, 73, 74, 75, 76, 77, 78, 79, 80, 81, 82, 83, 84, 85, 86, 87, 88, 89, 90, 91, 92, 93, 94, 95, 96, 97, 98, 99, 100, "
     ]
    }
   ],
   "source": [
    "#Programa que imprime numeros entre 1 y 100 en orden creciente\n",
    "for i in range(1, 101):\n",
    "    print(i, end= \", \")\n",
    "\n",
    "\n"
   ]
  },
  {
   "cell_type": "markdown",
   "id": "b3bce973",
   "metadata": {},
   "source": [
    "### **Ejercicio 2**\n",
    "\n",
    "Desarrolla un programa que solicite al usuario un número entero y determine la cantidad de dígitos que contiene."
   ]
  },
  {
   "cell_type": "code",
   "execution_count": 18,
   "id": "ea92f672",
   "metadata": {},
   "outputs": [
    {
     "name": "stdout",
     "output_type": "stream",
     "text": [
      "\n",
      "El número ingresado es: 10\n",
      "La cantidad de dígitos del núnero es: 2\n"
     ]
    }
   ],
   "source": [
    "#Se solicita al usuario un número entero\n",
    "numero = int(input(\"Ingrese un número entero: \"))\n",
    "#Se imprime el número ingresado\n",
    "print(f\"\\nEl número ingresado es: {numero}\")\n",
    "\n",
    "#Se determina la cantidad de dígitos del número ingresado\n",
    "cantidad_digitos = len(str(numero))\n",
    "#Se imprime la cantidad de dígitos\n",
    "print(f\"La cantidad de dígitos del núnero es: {cantidad_digitos}\")\n"
   ]
  },
  {
   "cell_type": "markdown",
   "id": "a8fac29c",
   "metadata": {},
   "source": [
    "### **Ejercicio 3**\n",
    "\n",
    "Escribe un programa que sume todos los números enteros comprendidos entre dos valores dados por el usuario, excluyendo esos dos valores. "
   ]
  },
  {
   "cell_type": "code",
   "execution_count": 40,
   "id": "816365c9",
   "metadata": {},
   "outputs": [
    {
     "name": "stdout",
     "output_type": "stream",
     "text": [
      "La suma de los números entre 10 y 5 es: 30\n"
     ]
    }
   ],
   "source": [
    "# Programa para sumar números entre dos valores excluyéndolos\n",
    "valor1 = int(input(\"Ingrese el primer valor: \"))\n",
    "valor2 = int(input(\"Ingrese el segundo valor: \"))\n",
    "\n",
    "# Se asegura el orden de los valores\n",
    "if valor1 < valor2:\n",
    "    inicio = valor1 + 1 \n",
    "    fin = valor2\n",
    "else:\n",
    "    inicio = valor2 + 1\n",
    "    fin = valor1 \n",
    "\n",
    "#Se inicia la suma\n",
    "suma = 0\n",
    "for i in range(inicio, fin):\n",
    "    suma += i\n",
    "suma = sum(range(inicio, fin))\n",
    "\n",
    "#Se imprime el resultado de la suma\n",
    "print(f\"La suma de los números entre {valor1} y {valor2} es: {suma}\")"
   ]
  },
  {
   "cell_type": "markdown",
   "id": "f79e8d21",
   "metadata": {},
   "source": [
    "### **Ejercicio 4**\n",
    "\n",
    "Elabora un programa que permita al usuario ingresar números enteros y los sume en secuencia. El programa debe detenerse y mostrar el total acumulado cuando el usuario ingrese un 0. "
   ]
  },
  {
   "cell_type": "code",
   "execution_count": null,
   "id": "a316ec6a",
   "metadata": {},
   "outputs": [
    {
     "name": "stdout",
     "output_type": "stream",
     "text": [
      "El número ingresado es: 10\n",
      "Total acumulado: 10\n",
      "Total acumulado: 30\n",
      "Total acumulado: 75\n",
      "Total acumulado: 125\n",
      "Total acumulado: 129\n",
      "Total acumulado: 199\n",
      "Total acumulado final: 199\n"
     ]
    }
   ],
   "source": [
    "#Ingresar un número entero\n",
    "numero = int(input(\"Ingrese números entero para sumarlos (Si ingresa 0 finalizara la suma): \"))\n",
    "\n",
    "#Suma en secuncia, deteniendose y mostrando el total acumulado cuando el usuario ingresa 0\n",
    "suma = 0 \n",
    "while True:\n",
    "    if numero == 0:\n",
    "        break\n",
    "    suma += numero\n",
    "    print(f\"Total acumulado: {suma}\")\n",
    "    numero = int(input(\"Ingrese otro número entero (0 para finalizar): \"))\n",
    "#Se imprime el total acumulado final\n",
    "print(f\"Total acumulado final: {suma}\")\n"
   ]
  },
  {
   "cell_type": "markdown",
   "id": "cea0c050",
   "metadata": {},
   "source": [
    "### **Ejercicio 5**\n",
    "\n",
    "Crea un juego en el que el usuario deba adivinar un número aleatorio entre 0 y 9. Al final, el programa debe mostrar cuántos intentos fueron necesarios para acertar el número. "
   ]
  },
  {
   "cell_type": "code",
   "execution_count": 25,
   "id": "7d497d77",
   "metadata": {},
   "outputs": [
    {
     "name": "stdout",
     "output_type": "stream",
     "text": [
      "Bienvenido al juego de adivinación de números!\n",
      "El número es menor, intenta de nuevo.\n",
      "¡Felicidades! Adivinaste el número 4 en 2 intentos.\n"
     ]
    }
   ],
   "source": [
    "#Programa de adivinación de números entre 0 y 9 \n",
    "import random\n",
    "numero_adivinar = random.randint(0, 9)\n",
    "\n",
    "intentos = 0 \n",
    "acierto = False\n",
    "\n",
    "print(\"Bienvenido al juego de adivinación de números!\")\n",
    "while not acierto: \n",
    "    intento  = int(input(\"Adivina un número entre 0 y 9:\"))\n",
    "    intentos +=1\n",
    "\n",
    "    if intento < numero_adivinar:\n",
    "        print(\"El número es mayor, intenta de nuevo.\")\n",
    "    elif intento > numero_adivinar:\n",
    "        print(\"El número es menor, intenta de nuevo.\")\n",
    "    else:\n",
    "        print(f\"¡Felicidades! Adivinaste el número {numero_adivinar} en {intentos} intentos.\")\n",
    "        acierto = True\n",
    "    "
   ]
  },
  {
   "cell_type": "markdown",
   "id": "834d6420",
   "metadata": {},
   "source": [
    "### **Ejercicio 6**\n",
    "\n",
    "Desarrolla un programa que imprima en pantalla todos los números pares comprendidos entre 0 y 100, en orden decreciente. "
   ]
  },
  {
   "cell_type": "code",
   "execution_count": 26,
   "id": "10f8db62",
   "metadata": {},
   "outputs": [
    {
     "name": "stdout",
     "output_type": "stream",
     "text": [
      "2, 4, 6, 8, 10, 12, 14, 16, 18, 20, 22, 24, 26, 28, 30, 32, 34, 36, 38, 40, 42, 44, 46, 48, 50, 52, 54, 56, 58, 60, 62, 64, 66, 68, 70, 72, 74, 76, 78, 80, 82, 84, 86, 88, 90, 92, 94, 96, 98, 100, "
     ]
    }
   ],
   "source": [
    "#Programa que imprime números del 1 al 100, solamente los numeros pares\n",
    "for i in range (1,101):\n",
    "    if i % 2 == 0:\n",
    "        print(i, end=\", \")"
   ]
  },
  {
   "cell_type": "markdown",
   "id": "4ba3fe60",
   "metadata": {},
   "source": [
    "### **Ejercicio 7**\n",
    "\n",
    "Crea un programa que calcule la suma de todos los números comprendidos entre 0 y un número entero positivo indicado por el usuario. "
   ]
  },
  {
   "cell_type": "code",
   "execution_count": 41,
   "id": "6e2c531b",
   "metadata": {},
   "outputs": [
    {
     "name": "stdout",
     "output_type": "stream",
     "text": [
      "La suma de los números del 0 al 100 es: 5050\n"
     ]
    }
   ],
   "source": [
    "#Programa que calula la suma de todos los números del 0 al numero positivo ingresado por el usuario\n",
    "numero = int(input(\"Ingrese un número positivo: \"))\n",
    "\n",
    "if numero <= 0:\n",
    "    print(\"Por favor ingrese un número positivo.\")\n",
    "else:\n",
    "    suma = 0 \n",
    "    for i in range(1, numero + 1):\n",
    "        suma += i\n",
    "    print(f\"La suma de los números del 0 al {numero} es: {suma}\")"
   ]
  },
  {
   "cell_type": "markdown",
   "id": "fa5498c7",
   "metadata": {},
   "source": [
    "### **Ejercicio 8**\n",
    "\n",
    "Escribe un programa que permita al usuario ingresar 100 números enteros. Luego, el programa debe indicar cuántos de estos números son pares, cuántos son impares, cuántos son negativos y cuántos son positivos. (Nota: para probar el programa puedes usar una cantidad menor, pero debe estar preparado para procesar 100 números con un solo cambio). "
   ]
  },
  {
   "cell_type": "code",
   "execution_count": null,
   "id": "d7151ae7",
   "metadata": {},
   "outputs": [
    {
     "name": "stdout",
     "output_type": "stream",
     "text": [
      "Ingresa 3 números enteros:\n",
      "\n",
      "Resultados:\n",
      "Cantidad de números pares: 3\n",
      "Cantidad de números impares: 0\n",
      "Cantidad de números positivos: 3\n",
      "Cantidad de números negativos: 0\n"
     ]
    }
   ],
   "source": [
    "#Programa para ingresar 100 números enteros y calcular la suma de los números pares e impares, negativos y positivos\n",
    "\n",
    "#Se define una cantidad maxima de números a ingresar\n",
    "cantidad_numeros = int(input(\"Ingrese la cantidad de números enteros que desea ingresar (máximo 100): \"))\n",
    "if cantidad_numeros > 100:\n",
    "    print(\"La cantidad máxima de números a ingresar es 100. Se ajustará a 100.\")\n",
    "    cantidad_numeros = 100\n",
    "#se inicializan los contadores\n",
    "pares = 0\n",
    "impares = 0\n",
    "positivos = 0\n",
    "negativos = 0\n",
    "\n",
    "# Pedir al usuario que ingrese los números\n",
    "print(f\"Ingresa {cantidad_numeros} números enteros:\")\n",
    "\n",
    "\n",
    "for i in range(cantidad_numeros):\n",
    "    numero = int(input(f\"Ingrese el número{i + 1}\"))\n",
    "    # Verificar si el número es positivo, negativo, par o impar\n",
    "    if numero > 0:\n",
    "        positivos += 1\n",
    "    elif numero < 0:\n",
    "        negativos += 1\n",
    "\n",
    "\n",
    "    if numero % 2 == 0:\n",
    "        pares += 1\n",
    "    else:\n",
    "        impares += 1\n",
    "\n",
    "# Imprimir los resultados\n",
    "\n",
    "print(f\"\\nResultados:\")\n",
    "print(f\"Cantidad de números pares: {pares}\")\n",
    "print(f\"Cantidad de números impares: {impares}\")\n",
    "print(f\"Cantidad de números positivos: {positivos}\")\n",
    "print(f\"Cantidad de números negativos: {negativos}\")"
   ]
  },
  {
   "cell_type": "markdown",
   "id": "659d2ddd",
   "metadata": {},
   "source": [
    "### **Ejercicio 9**\n",
    "\n",
    "Elabora un programa que permita al usuario ingresar 100 números enteros y luego calcule la media de esos valores. (Nota: puedes probar el programa con una cantidad menor, pero debe poder procesar 100 números cambiando solo un valor). "
   ]
  },
  {
   "cell_type": "code",
   "execution_count": 57,
   "id": "ea6db047",
   "metadata": {},
   "outputs": [
    {
     "name": "stdout",
     "output_type": "stream",
     "text": [
      "La media de los números ingresados es: 6.60\n"
     ]
    }
   ],
   "source": [
    "#Programa para ingresar 100 números enteros y calcular la media de esos valores\n",
    "\n",
    "#Se define una cantidad maxima de números a ingresar\n",
    "cantidad_numeros = int(input(\"Ingrese la cantidad de números enteros que desea ingresar (máximo 100): \"))\n",
    "if cantidad_numeros > 100:\n",
    "    print(\"La cantidad máxima de números a ingresar es 100. Se ajustará a 100.\")\n",
    "    cantidad_numeros = 100\n",
    "\n",
    "# Se inicializa la suma\n",
    "suma = 0\n",
    "\n",
    "#Se calcula de media de los números ingresados\n",
    "for i in range (cantidad_numeros):\n",
    "    numero = int(input(f\"ingrese el número {i + 1}:\")) #Se solicita al usuario que ingrese un número\n",
    "    suma += numero #Se suma el número ingresado a la suma total\n",
    "\n",
    "# Se calcula la media\n",
    "media = suma / cantidad_numeros\n",
    "\n",
    "# Se imprime la media\n",
    "print(f\"La media de los números ingresados es: {media:.2f}\")"
   ]
  },
  {
   "cell_type": "markdown",
   "id": "2613bb75",
   "metadata": {},
   "source": [
    "### **Ejercicio 10**\n",
    "\n",
    "Escribe un programa que invierta el orden de los dígitos de un número ingresado por el usuario. Ejemplo: si el usuario ingresa 547, el programa debe mostrar 745. "
   ]
  },
  {
   "cell_type": "code",
   "execution_count": 66,
   "id": "caff6bdf",
   "metadata": {},
   "outputs": [
    {
     "name": "stdout",
     "output_type": "stream",
     "text": [
      "El número invertido es: -51\n"
     ]
    }
   ],
   "source": [
    "# Programa que invierte el orden de los dígitos ingresados por el usuario\n",
    "\n",
    "# Convertir el número a entero si es necesario\n",
    "numero_int = int(input(\"Ingrese un número entero para invertir sus dígitos: \"))\n",
    "\n",
    "# Convertir el número a positivo para manejar números negativos\n",
    "numero_abs = abs(numero_int)\n",
    "\n",
    "# Inicializar la variable para almacenar el número invertido\n",
    "numero_inv = 0\n",
    "\n",
    "while numero_abs > 0:\n",
    "    digito = numero_abs % 10  # Obtener el último dígito\n",
    "    numero_inv = numero_inv * 10 + digito  # Agregar el dígito al número invertido\n",
    "    numero_abs //= 10  # Eliminar el último dígito del número\n",
    "\n",
    "# Si el número original era negativo, hacer que el número invertido también sea negativo\n",
    "if numero_int < 0:\n",
    "    numero_inv = -numero_inv\n",
    "\n",
    "# Mostrar el número invertido\n",
    "print(f\"El número invertido es: {numero_inv}\")\n"
   ]
  }
 ],
 "metadata": {
  "kernelspec": {
   "display_name": "Python 3",
   "language": "python",
   "name": "python3"
  },
  "language_info": {
   "codemirror_mode": {
    "name": "ipython",
    "version": 3
   },
   "file_extension": ".py",
   "mimetype": "text/x-python",
   "name": "python",
   "nbconvert_exporter": "python",
   "pygments_lexer": "ipython3",
   "version": "3.13.2"
  }
 },
 "nbformat": 4,
 "nbformat_minor": 5
}
